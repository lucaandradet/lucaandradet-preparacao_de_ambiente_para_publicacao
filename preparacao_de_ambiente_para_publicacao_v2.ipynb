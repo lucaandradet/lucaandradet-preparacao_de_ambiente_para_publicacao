{
 "cells": [
  {
   "cell_type": "markdown",
   "metadata": {},
   "source": [
    "Importando Bibliotecas"
   ]
  },
  {
   "cell_type": "code",
   "execution_count": 60,
   "metadata": {},
   "outputs": [],
   "source": [
    "#------------------------------------------------------------------------------------------------------------------------------------------------------------------------------\n",
    "# Criado por: Lucas Andrade\n",
    "# Data de criação: 19/01/2024\n",
    "# Versão: '2.0'\n",
    "# Detalhes do projeto: Esse projeto foi idealizado para realizar a automatização de processos na preparação de ambientes. Nele, são realizada tarefas como: Cópia de arquivos, backup de pastas e arquivos, exclusão de pastas e criação de pastas em branco;\n",
    "#------------------------------------------------------------------------------------------------------------------------------------------------------------------------------\n",
    "'''Melhorias da versão: \n",
    "    1 - Corrigido nome da pasta de \"backup.zip\" para \"backup_dia_mês_ano_hora_minuto_segundo.zip\"\n",
    "    2 - Corrigido bug que não salvava os arquivos contidos dentro das pastas no backup\n",
    "'''\n",
    "#------------------------------------------------------------------------------------------------------------------------------------------------------------------------------\n",
    "\n",
    "import shutil\n",
    "import os\n",
    "from zipfile import ZipFile\n",
    "from datetime import datetime"
   ]
  },
  {
   "attachments": {},
   "cell_type": "markdown",
   "metadata": {},
   "source": [
    "Rotina Principal da Automação"
   ]
  },
  {
   "cell_type": "code",
   "execution_count": 61,
   "metadata": {},
   "outputs": [
    {
     "name": "stdout",
     "output_type": "stream",
     "text": [
      "Arquivo teste.txt copiado para o novo diretório: C:\\Users\\lucas\\OneDrive\\Documentos\\Pasta_2\n",
      "Arquivo de backup (backup_19_01_2024_17_34_35.zip) criado com sucesso no diretório: C:\\Users\\lucas\\Downloads\\Pasta_1\n",
      "Pastas DBF, DEF, CNV, JS excluídas do diretório: C:\\Users\\lucas\\Downloads\\Pasta_1\n",
      "Novas pastas: DBF, DEF, CNV, JS criadas com sucesso no diretório: C:\\Users\\lucas\\Downloads\\Pasta_1\n"
     ]
    }
   ],
   "source": [
    "# Diretórios de origem e destino\n",
    "diretorio_origem1 = r'C:\\Users\\lucas\\Downloads\\Pasta_1'\n",
    "diretorio_destino1 = r'C:\\Users\\lucas\\OneDrive\\Documentos\\Pasta_2'\n",
    "\n",
    "# Nome do arquivo a ser copiado\n",
    "nome_arquivo = 'teste.txt'\n",
    "\n",
    "# Copiando o arquivo para o novo diretório\n",
    "shutil.copy(os.path.join(diretorio_origem1, nome_arquivo), diretorio_destino1)\n",
    "\n",
    "print(\"Arquivo \"+ nome_arquivo +\" copiado para o novo diretório: \" + diretorio_destino1)\n",
    "\n",
    "# Lista de pastas para backup (incluindo aquelas que podem não ter dados)\n",
    "pastas_backup = ['DBF', 'DEF', 'CNV', 'JS']\n",
    "\n",
    "# Criando um arquivo zip para os backups\n",
    "data_hora_atual = datetime.now().strftime(\"%d_%m_%Y_%H_%M_%S\")\n",
    "nome_zip = f'backup_{data_hora_atual}.zip'\n",
    "caminho_zip = os.path.join(diretorio_origem1, nome_zip)  # Caminho que o diretório será salvo\n",
    "\n",
    "# Criando a pasta para armazenar os backups\n",
    "pasta_backup_nome = f'backup_{data_hora_atual}'\n",
    "\n",
    "with ZipFile(caminho_zip, 'w') as zipf:\n",
    "    for pasta in pastas_backup:\n",
    "        caminho_pasta = os.path.join(diretorio_origem1, pasta)\n",
    "\n",
    "        # Adiciona a própria pasta ao ZIP (mesmo que esteja vazia)\n",
    "        rel_path = os.path.relpath(caminho_pasta, diretorio_origem1)\n",
    "        zipf.write(caminho_pasta, arcname=os.path.join(pasta_backup_nome, rel_path))\n",
    "\n",
    "        # Adiciona todos os arquivos e subdiretórios da pasta ao ZIP\n",
    "        for root, dirs, files in os.walk(caminho_pasta):\n",
    "            for file in files:\n",
    "                caminho_arquivo = os.path.join(root, file)\n",
    "                # Adiciona o arquivo ao ZIP com o caminho relativo\n",
    "                rel_path = os.path.relpath(caminho_arquivo, diretorio_origem1)\n",
    "                zipf.write(caminho_arquivo, arcname=os.path.join(pasta_backup_nome, rel_path))\n",
    "\n",
    "print(\"Arquivo de backup (\" + nome_zip + \") criado com sucesso no diretório: \" + diretorio_origem1)\n",
    "\n",
    "# Excluindo pastas de backup existentes no diretorio_origem1\n",
    "for pasta in pastas_backup:\n",
    "    caminho_pasta_origem = os.path.join(diretorio_origem1, pasta)\n",
    "    if os.path.exists(caminho_pasta_origem):\n",
    "        shutil.rmtree(caminho_pasta_origem)\n",
    "\n",
    "print(\"Pastas \"+ \", \".join(pastas_backup) +\" excluídas do diretório: \" + diretorio_origem1)\n",
    "\n",
    "# Criando novas pastas no diretorio_origem1\n",
    "for nova_pasta in pastas_backup:\n",
    "    nova_pasta_caminho = os.path.join(diretorio_origem1, nova_pasta)\n",
    "    os.makedirs(nova_pasta_caminho)\n",
    "\n",
    "print(\"Novas pastas: \"+ \", \".join(pastas_backup) +\" criadas com sucesso no diretório: \" + diretorio_origem1)"
   ]
  }
 ],
 "metadata": {
  "kernelspec": {
   "display_name": "Python 3 (ipykernel)",
   "language": "python",
   "name": "python3"
  },
  "language_info": {
   "codemirror_mode": {
    "name": "ipython",
    "version": 3
   },
   "file_extension": ".py",
   "mimetype": "text/x-python",
   "name": "python",
   "nbconvert_exporter": "python",
   "pygments_lexer": "ipython3",
   "version": "3.11.2"
  }
 },
 "nbformat": 4,
 "nbformat_minor": 2
}
